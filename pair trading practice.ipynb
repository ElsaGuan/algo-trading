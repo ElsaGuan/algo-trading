{
 "cells": [
  {
   "cell_type": "code",
   "execution_count": 1,
   "metadata": {},
   "outputs": [],
   "source": [
    "import MySQLdb as mdb\n",
    "import pandas as pd\n",
    "import numpy as np\n",
    "import matplotlib.pyplot as plt\n",
    "import statsmodels.tsa.stattools as ts\n",
    "import matplotlib.dates as mdates\n",
    "import statsmodels.api as sm"
   ]
  },
  {
   "cell_type": "code",
   "execution_count": 2,
   "metadata": {},
   "outputs": [
    {
     "name": "stderr",
     "output_type": "stream",
     "text": [
      "/anaconda3/envs/tf-session/lib/python3.5/site-packages/ipykernel_launcher.py:12: DeprecationWarning: context interface will be changed.  Use explicit conn.commit() or conn.rollback().\n",
      "  if sys.path[0] == '':\n"
     ]
    }
   ],
   "source": [
    "#从database获取数据\n",
    "db_host = 'localhost'\n",
    "db_user = 'root'\n",
    "f = open('/Users/chocolatekuma/Documents/MySQL_pw.txt','r')\n",
    "db_pass = f.read()\n",
    "db_name = 'test'\n",
    "con = mdb.connect(db_host,db_user,db_pass,db_name, use_unicode = True, charset='utf8')\n",
    "\n",
    "sql = \"\"\"select symbol_id, price_date, close_price from daily_price where price_date between '2013-01-07' and '2018-08-01';\"\"\"\n",
    "df = pd.read_sql_query(sql, con=con)\n",
    "\n",
    "with con:\n",
    "    cur = con.cursor()\n",
    "    cur.execute('select id,ticker,name from symbol')\n",
    "    symbol = cur.fetchall()\n",
    "    name = dict(zip([d[0] for d in symbol],[d[2] for d in symbol]))\n",
    "    ticker = dict(zip([d[0] for d in symbol],[d[1] for d in symbol]))"
   ]
  },
  {
   "cell_type": "code",
   "execution_count": 3,
   "metadata": {},
   "outputs": [
    {
     "data": {
      "text/html": [
       "<div>\n",
       "<style scoped>\n",
       "    .dataframe tbody tr th:only-of-type {\n",
       "        vertical-align: middle;\n",
       "    }\n",
       "\n",
       "    .dataframe tbody tr th {\n",
       "        vertical-align: top;\n",
       "    }\n",
       "\n",
       "    .dataframe thead th {\n",
       "        text-align: right;\n",
       "    }\n",
       "</style>\n",
       "<table border=\"1\" class=\"dataframe\">\n",
       "  <thead>\n",
       "    <tr style=\"text-align: right;\">\n",
       "      <th></th>\n",
       "      <th>symbol_id</th>\n",
       "      <th>price_date</th>\n",
       "      <th>close_price</th>\n",
       "    </tr>\n",
       "  </thead>\n",
       "  <tbody>\n",
       "    <tr>\n",
       "      <th>0</th>\n",
       "      <td>1</td>\n",
       "      <td>2018-08-01</td>\n",
       "      <td>9.91</td>\n",
       "    </tr>\n",
       "    <tr>\n",
       "      <th>1</th>\n",
       "      <td>1</td>\n",
       "      <td>2018-07-31</td>\n",
       "      <td>10.17</td>\n",
       "    </tr>\n",
       "    <tr>\n",
       "      <th>2</th>\n",
       "      <td>1</td>\n",
       "      <td>2018-07-30</td>\n",
       "      <td>10.13</td>\n",
       "    </tr>\n",
       "    <tr>\n",
       "      <th>3</th>\n",
       "      <td>1</td>\n",
       "      <td>2018-07-27</td>\n",
       "      <td>9.99</td>\n",
       "    </tr>\n",
       "    <tr>\n",
       "      <th>4</th>\n",
       "      <td>1</td>\n",
       "      <td>2018-07-26</td>\n",
       "      <td>9.96</td>\n",
       "    </tr>\n",
       "  </tbody>\n",
       "</table>\n",
       "</div>"
      ],
      "text/plain": [
       "   symbol_id price_date  close_price\n",
       "0          1 2018-08-01         9.91\n",
       "1          1 2018-07-31        10.17\n",
       "2          1 2018-07-30        10.13\n",
       "3          1 2018-07-27         9.99\n",
       "4          1 2018-07-26         9.96"
      ]
     },
     "execution_count": 3,
     "metadata": {},
     "output_type": "execute_result"
    }
   ],
   "source": [
    "df.head()\n"
   ]
  },
  {
   "cell_type": "code",
   "execution_count": 4,
   "metadata": {},
   "outputs": [],
   "source": [
    "df.set_index('price_date', inplace=True)"
   ]
  },
  {
   "cell_type": "code",
   "execution_count": 5,
   "metadata": {},
   "outputs": [
    {
     "data": {
      "text/plain": [
       "263"
      ]
     },
     "execution_count": 5,
     "metadata": {},
     "output_type": "execute_result"
    }
   ],
   "source": [
    "#获取2013年已经上市的股票\n",
    "new_symbol = []\n",
    "for i in range(1,301):\n",
    "    if len(df[df['symbol_id']==i]) == 1356:\n",
    "        new_symbol.append(i)\n",
    "len(new_symbol)    "
   ]
  },
  {
   "cell_type": "code",
   "execution_count": 6,
   "metadata": {},
   "outputs": [
    {
     "name": "stdout",
     "output_type": "stream",
     "text": [
      "1 1356\n",
      "2 1356\n",
      "3 1356\n",
      "4 1356\n",
      "5 1356\n",
      "6 1356\n",
      "7 1356\n",
      "8 1356\n",
      "9 1356\n",
      "10 1356\n",
      "12 1356\n",
      "13 1356\n",
      "14 1356\n",
      "15 1356\n",
      "16 1356\n",
      "17 1356\n",
      "18 1356\n",
      "19 1356\n",
      "20 1356\n",
      "21 1356\n",
      "22 1356\n",
      "23 1356\n",
      "24 1356\n",
      "25 1356\n",
      "26 1356\n",
      "27 1356\n",
      "28 1356\n",
      "29 1356\n",
      "30 1356\n",
      "31 1356\n",
      "32 1356\n",
      "33 1356\n",
      "34 1356\n",
      "35 1356\n",
      "36 1356\n",
      "37 1356\n",
      "38 1356\n",
      "39 1356\n",
      "40 1356\n",
      "41 1356\n",
      "42 1356\n",
      "43 1356\n",
      "44 1356\n",
      "45 1356\n",
      "46 1356\n",
      "47 1356\n",
      "48 1356\n",
      "49 1356\n",
      "50 1356\n",
      "51 1356\n",
      "52 1356\n",
      "53 1356\n",
      "54 1356\n",
      "55 1356\n",
      "56 1356\n",
      "57 1356\n",
      "58 1356\n",
      "59 1356\n",
      "60 1356\n",
      "61 1356\n",
      "62 1356\n",
      "63 1356\n",
      "64 1356\n",
      "65 1356\n",
      "66 1356\n",
      "67 1356\n",
      "68 1356\n",
      "69 1356\n",
      "70 1356\n",
      "71 1356\n",
      "72 1356\n",
      "73 1356\n",
      "74 1356\n",
      "75 1356\n",
      "76 1356\n",
      "77 1356\n",
      "78 1356\n",
      "79 1356\n",
      "80 1356\n",
      "81 1356\n",
      "82 1356\n",
      "83 1356\n",
      "84 1356\n",
      "85 1356\n",
      "86 1356\n",
      "87 1356\n",
      "88 1356\n",
      "89 1356\n",
      "90 1356\n",
      "91 1356\n",
      "92 1356\n",
      "93 1356\n",
      "94 1356\n",
      "95 1356\n",
      "96 1356\n",
      "97 1356\n",
      "98 1356\n",
      "99 1356\n",
      "106 1356\n",
      "107 1356\n",
      "108 1356\n",
      "109 1356\n",
      "110 1356\n",
      "112 1356\n",
      "113 1356\n",
      "114 1356\n",
      "115 1356\n",
      "116 1356\n",
      "119 1356\n",
      "120 1356\n",
      "121 1356\n",
      "125 1356\n",
      "129 1356\n",
      "130 1356\n",
      "131 1356\n",
      "132 1356\n",
      "133 1356\n",
      "135 1356\n",
      "136 1356\n",
      "137 1356\n",
      "138 1356\n",
      "139 1356\n",
      "140 1356\n",
      "141 1356\n",
      "142 1356\n",
      "144 1356\n",
      "145 1356\n",
      "146 1356\n",
      "147 1356\n",
      "148 1356\n",
      "149 1356\n",
      "150 1356\n",
      "151 1356\n",
      "152 1356\n",
      "153 1356\n",
      "154 1356\n",
      "155 1356\n",
      "156 1356\n",
      "157 1356\n",
      "158 1356\n",
      "159 1356\n",
      "162 1356\n",
      "163 1356\n",
      "164 1356\n",
      "165 1356\n",
      "166 1356\n",
      "167 1356\n",
      "168 1356\n",
      "169 1356\n",
      "172 1356\n",
      "173 1356\n",
      "174 1356\n",
      "175 1356\n",
      "177 1356\n",
      "182 1356\n",
      "183 1356\n",
      "184 1356\n",
      "185 1356\n",
      "186 1356\n",
      "187 1356\n",
      "188 1356\n",
      "189 1356\n",
      "190 1356\n",
      "193 1356\n",
      "194 1356\n",
      "195 1356\n",
      "196 1356\n",
      "197 1356\n",
      "198 1356\n",
      "199 1356\n",
      "200 1356\n",
      "201 1356\n",
      "202 1356\n",
      "203 1356\n",
      "204 1356\n",
      "205 1356\n",
      "206 1356\n",
      "207 1356\n",
      "208 1356\n",
      "209 1356\n",
      "210 1356\n",
      "211 1356\n",
      "212 1356\n",
      "213 1356\n",
      "214 1356\n",
      "215 1356\n",
      "216 1356\n",
      "217 1356\n",
      "218 1356\n",
      "219 1356\n",
      "220 1356\n",
      "221 1356\n",
      "222 1356\n",
      "223 1356\n",
      "224 1356\n",
      "225 1356\n",
      "226 1356\n",
      "227 1356\n",
      "228 1356\n",
      "229 1356\n",
      "230 1356\n",
      "231 1356\n",
      "233 1356\n",
      "234 1356\n",
      "235 1356\n",
      "236 1356\n",
      "237 1356\n",
      "238 1356\n",
      "239 1356\n",
      "240 1356\n",
      "241 1356\n",
      "242 1356\n",
      "243 1356\n",
      "244 1356\n",
      "245 1356\n",
      "246 1356\n",
      "247 1356\n",
      "248 1356\n",
      "249 1356\n",
      "250 1356\n",
      "251 1356\n",
      "252 1356\n",
      "253 1356\n",
      "254 1356\n",
      "255 1356\n",
      "256 1356\n",
      "257 1356\n",
      "258 1356\n",
      "259 1356\n",
      "260 1356\n",
      "261 1356\n",
      "262 1356\n",
      "263 1356\n",
      "264 1356\n",
      "265 1356\n",
      "266 1356\n",
      "267 1356\n",
      "268 1356\n",
      "269 1356\n",
      "270 1356\n",
      "271 1356\n",
      "272 1356\n",
      "273 1356\n",
      "274 1356\n",
      "275 1356\n",
      "276 1356\n",
      "277 1356\n",
      "278 1356\n",
      "286 1356\n",
      "287 1356\n",
      "288 1356\n",
      "289 1356\n",
      "290 1356\n",
      "291 1356\n",
      "292 1356\n",
      "293 1356\n",
      "294 1356\n",
      "295 1356\n",
      "296 1356\n",
      "297 1356\n",
      "298 1356\n",
      "299 1356\n",
      "300 1356\n"
     ]
    }
   ],
   "source": [
    "#找到所有有协整关系的股票\n",
    "coint = {}\n",
    "for i in new_symbol:\n",
    "    co = []\n",
    "    stock1 = df[df['symbol_id'] == i]['close_price']\n",
    "    print(i, len(stock1))\n",
    "    for j in new_symbol[new_symbol.index(i)+1:]:\n",
    "        stock2 = df[df['symbol_id'] == j]['close_price']\n",
    "        result = ts.coint(stock1,stock2)\n",
    "        if result[1] <= 0.01:\n",
    "             co.append(name[j])"
   ]
  },
  {
   "cell_type": "code",
   "execution_count": 7,
   "metadata": {},
   "outputs": [
    {
     "data": {
      "text/plain": [
       "{}"
      ]
     },
     "execution_count": 7,
     "metadata": {},
     "output_type": "execute_result"
    }
   ],
   "source": [
    "coint"
   ]
  },
  {
   "cell_type": "code",
   "execution_count": 8,
   "metadata": {},
   "outputs": [
    {
     "name": "stdout",
     "output_type": "stream",
     "text": [
      "The close price of stock: 浦发银行 is mean-reverting at 1 percent significance level\n",
      "The close price of stock: 国投资本 is mean-reverting at 1 percent significance level\n",
      "The close price of stock: 宇通客车 is mean-reverting at 1 percent significance level\n",
      "The close price of stock: 特变电工 is mean-reverting at 1 percent significance level\n",
      "The close price of stock: 永泰能源 is mean-reverting at 1 percent significance level\n",
      "The close price of stock: 新湖中宝 is mean-reverting at 1 percent significance level\n",
      "The close price of stock: 圆通速递 is mean-reverting at 1 percent significance level\n",
      "The close price of stock: 航天信息 is mean-reverting at 1 percent significance level\n",
      "The close price of stock: 广汇汽车 is mean-reverting at 1 percent significance level\n",
      "The close price of stock: 万华化学 is mean-reverting at 1 percent significance level\n",
      "The close price of stock: 白云山 is mean-reverting at 1 percent significance level\n",
      "The close price of stock: 华夏幸福 is mean-reverting at 1 percent significance level\n",
      "The close price of stock: 五矿资本 is mean-reverting at 1 percent significance level\n",
      "The close price of stock: 烽火通信 is mean-reverting at 1 percent significance level\n",
      "The close price of stock: 中天科技 is mean-reverting at 1 percent significance level\n",
      "The close price of stock: 山东黄金 is mean-reverting at 1 percent significance level\n",
      "The close price of stock: 城投控股 is mean-reverting at 1 percent significance level\n",
      "The close price of stock: 南京新百 is mean-reverting at 1 percent significance level\n",
      "The close price of stock: 物产中大 is mean-reverting at 1 percent significance level\n",
      "The close price of stock: 辽宁成大 is mean-reverting at 1 percent significance level\n",
      "The close price of stock: 鹏博士 is mean-reverting at 1 percent significance level\n",
      "The close price of stock: 百联股份 is mean-reverting at 1 percent significance level\n",
      "The close price of stock: 国投电力 is mean-reverting at 1 percent significance level\n",
      "The close price of stock: 海南橡胶 is mean-reverting at 1 percent significance level\n",
      "The close price of stock: 北京银行 is mean-reverting at 1 percent significance level\n",
      "The close price of stock: 君正集团 is mean-reverting at 1 percent significance level\n",
      "The close price of stock: 中信重工 is mean-reverting at 1 percent significance level\n",
      "The close price of stock: 上海电气 is mean-reverting at 1 percent significance level\n",
      "The close price of stock: 中国国旅 is mean-reverting at 1 percent significance level\n",
      "The close price of stock: 紫金矿业 is mean-reverting at 1 percent significance level\n",
      "The close price of stock: 中远海控 is mean-reverting at 1 percent significance level\n",
      "The close price of stock: 神州高铁 is mean-reverting at 1 percent significance level\n",
      "The close price of stock: 中金岭南 is mean-reverting at 1 percent significance level\n",
      "The close price of stock: 华侨城A is mean-reverting at 1 percent significance level\n",
      "The close price of stock: 渤海金控 is mean-reverting at 1 percent significance level\n",
      "The close price of stock: 海虹控股 is mean-reverting at 1 percent significance level\n",
      "The close price of stock: 中天金融 is mean-reverting at 1 percent significance level\n",
      "The close price of stock: 长安汽车 is mean-reverting at 1 percent significance level\n",
      "The close price of stock: 河钢股份 is mean-reverting at 1 percent significance level\n",
      "The close price of stock: 长江证券 is mean-reverting at 1 percent significance level\n",
      "The close price of stock: 启迪桑德 is mean-reverting at 1 percent significance level\n",
      "The close price of stock: 中信国安 is mean-reverting at 1 percent significance level\n",
      "The close price of stock: 中南建设 is mean-reverting at 1 percent significance level\n",
      "The close price of stock: 华东医药 is mean-reverting at 1 percent significance level\n",
      "The close price of stock: 东华软件 is mean-reverting at 1 percent significance level\n",
      "The close price of stock: 荣盛发展 is mean-reverting at 1 percent significance level\n",
      "The close price of stock: 游族网络 is mean-reverting at 1 percent significance level\n",
      "The close price of stock: 奥飞娱乐 is mean-reverting at 1 percent significance level\n",
      "The close price of stock: 海康威视 is mean-reverting at 1 percent significance level\n",
      "The close price of stock: 康得新 is mean-reverting at 1 percent significance level\n",
      "The close price of stock: 三七互娱 is mean-reverting at 1 percent significance level\n",
      "The close price of stock: 龙蟒佰利 is mean-reverting at 1 percent significance level\n",
      "The close price of stock: 爱尔眼科 is mean-reverting at 1 percent significance level\n",
      "The close price of stock: 华谊兄弟 is mean-reverting at 1 percent significance level\n",
      "The close price of stock: 碧水源 is mean-reverting at 1 percent significance level\n",
      "The close price of stock: 宋城演艺 is mean-reverting at 1 percent significance level\n",
      "The close price of stock: 掌趣科技 is mean-reverting at 1 percent significance level\n"
     ]
    }
   ],
   "source": [
    "#statmodel里面的协整检验的前提假设是两个时序数据是平稳的\n",
    "#所以找到股价为平稳序列的股票\n",
    "mean_rev_1 = []\n",
    "random_walk = []\n",
    "for i in new_symbol:\n",
    "    stock = df[df['symbol_id'] == i]['close_price']\n",
    "    result = ts.adfuller(stock)  \n",
    "    if result[0]>result[4]['1%'] :\n",
    "        random_walk.append(name[i])\n",
    "    else:\n",
    "        print('The close price of stock: %s is mean-reverting at 1 percent significance level' % name[i])\n",
    "        mean_rev_1.append(name[i])"
   ]
  },
  {
   "cell_type": "code",
   "execution_count": 9,
   "metadata": {},
   "outputs": [],
   "source": [
    "#有协整关系的两支股票有两种情况，一种是两支股票同为平稳序列，一种是两支股票同为不平稳序列\n",
    "#剔除通过的协整检验，但是一支为平稳序列，一支为不平稳序列的股票配对\n",
    "for i in coint:\n",
    "    print(i)\n",
    "    if i in mean_rev:\n",
    "        for j in coint[i]:\n",
    "            if j not in mean_rev:\n",
    "                coint[i].remove(j)\n",
    "    else:\n",
    "        for j in coint[i]:\n",
    "            if j in mean_rev:\n",
    "                coint[i].remove(j)"
   ]
  },
  {
   "cell_type": "code",
   "execution_count": 10,
   "metadata": {},
   "outputs": [
    {
     "data": {
      "text/html": [
       "<div>\n",
       "<style scoped>\n",
       "    .dataframe tbody tr th:only-of-type {\n",
       "        vertical-align: middle;\n",
       "    }\n",
       "\n",
       "    .dataframe tbody tr th {\n",
       "        vertical-align: top;\n",
       "    }\n",
       "\n",
       "    .dataframe thead th {\n",
       "        text-align: right;\n",
       "    }\n",
       "</style>\n",
       "<table border=\"1\" class=\"dataframe\">\n",
       "  <thead>\n",
       "    <tr style=\"text-align: right;\">\n",
       "      <th></th>\n",
       "      <th>symbol_id</th>\n",
       "      <th>close_price</th>\n",
       "      <th>name</th>\n",
       "      <th>ticker</th>\n",
       "    </tr>\n",
       "    <tr>\n",
       "      <th>price_date</th>\n",
       "      <th></th>\n",
       "      <th></th>\n",
       "      <th></th>\n",
       "      <th></th>\n",
       "    </tr>\n",
       "  </thead>\n",
       "  <tbody>\n",
       "    <tr>\n",
       "      <th>2018-08-01</th>\n",
       "      <td>1</td>\n",
       "      <td>9.91</td>\n",
       "      <td>浦发银行</td>\n",
       "      <td>600000</td>\n",
       "    </tr>\n",
       "    <tr>\n",
       "      <th>2018-07-31</th>\n",
       "      <td>1</td>\n",
       "      <td>10.17</td>\n",
       "      <td>浦发银行</td>\n",
       "      <td>600000</td>\n",
       "    </tr>\n",
       "    <tr>\n",
       "      <th>2018-07-30</th>\n",
       "      <td>1</td>\n",
       "      <td>10.13</td>\n",
       "      <td>浦发银行</td>\n",
       "      <td>600000</td>\n",
       "    </tr>\n",
       "    <tr>\n",
       "      <th>2018-07-27</th>\n",
       "      <td>1</td>\n",
       "      <td>9.99</td>\n",
       "      <td>浦发银行</td>\n",
       "      <td>600000</td>\n",
       "    </tr>\n",
       "    <tr>\n",
       "      <th>2018-07-26</th>\n",
       "      <td>1</td>\n",
       "      <td>9.96</td>\n",
       "      <td>浦发银行</td>\n",
       "      <td>600000</td>\n",
       "    </tr>\n",
       "  </tbody>\n",
       "</table>\n",
       "</div>"
      ],
      "text/plain": [
       "            symbol_id  close_price  name  ticker\n",
       "price_date                                      \n",
       "2018-08-01          1         9.91  浦发银行  600000\n",
       "2018-07-31          1        10.17  浦发银行  600000\n",
       "2018-07-30          1        10.13  浦发银行  600000\n",
       "2018-07-27          1         9.99  浦发银行  600000\n",
       "2018-07-26          1         9.96  浦发银行  600000"
      ]
     },
     "execution_count": 10,
     "metadata": {},
     "output_type": "execute_result"
    }
   ],
   "source": [
    "#从有协整关系的股票配对中随意找出一对，看一下它们之间的量化关系\n",
    "# '万科A': ['顺丰控股']\n",
    "df['name'] = df['symbol_id'].apply(lambda v: name[v])\n",
    "df['ticker'] = df['symbol_id'].apply(lambda v: ticker[v])\n",
    "df.head()"
   ]
  },
  {
   "cell_type": "code",
   "execution_count": 11,
   "metadata": {},
   "outputs": [],
   "source": [
    "stock1 = df[df['name'] == '万科A']\n",
    "stock2 = df[df['name'] == '顺丰控股']"
   ]
  },
  {
   "cell_type": "code",
   "execution_count": 12,
   "metadata": {},
   "outputs": [
    {
     "data": {
      "text/html": [
       "<div>\n",
       "<style scoped>\n",
       "    .dataframe tbody tr th:only-of-type {\n",
       "        vertical-align: middle;\n",
       "    }\n",
       "\n",
       "    .dataframe tbody tr th {\n",
       "        vertical-align: top;\n",
       "    }\n",
       "\n",
       "    .dataframe thead th {\n",
       "        text-align: right;\n",
       "    }\n",
       "</style>\n",
       "<table border=\"1\" class=\"dataframe\">\n",
       "  <thead>\n",
       "    <tr style=\"text-align: right;\">\n",
       "      <th></th>\n",
       "      <th>symbol_id</th>\n",
       "      <th>close_price</th>\n",
       "      <th>name</th>\n",
       "      <th>ticker</th>\n",
       "    </tr>\n",
       "    <tr>\n",
       "      <th>price_date</th>\n",
       "      <th></th>\n",
       "      <th></th>\n",
       "      <th></th>\n",
       "      <th></th>\n",
       "    </tr>\n",
       "  </thead>\n",
       "  <tbody>\n",
       "    <tr>\n",
       "      <th>2018-08-01</th>\n",
       "      <td>184</td>\n",
       "      <td>22.35</td>\n",
       "      <td>万科A</td>\n",
       "      <td>000002</td>\n",
       "    </tr>\n",
       "    <tr>\n",
       "      <th>2018-07-31</th>\n",
       "      <td>184</td>\n",
       "      <td>23.32</td>\n",
       "      <td>万科A</td>\n",
       "      <td>000002</td>\n",
       "    </tr>\n",
       "    <tr>\n",
       "      <th>2018-07-30</th>\n",
       "      <td>184</td>\n",
       "      <td>23.18</td>\n",
       "      <td>万科A</td>\n",
       "      <td>000002</td>\n",
       "    </tr>\n",
       "    <tr>\n",
       "      <th>2018-07-27</th>\n",
       "      <td>184</td>\n",
       "      <td>23.32</td>\n",
       "      <td>万科A</td>\n",
       "      <td>000002</td>\n",
       "    </tr>\n",
       "    <tr>\n",
       "      <th>2018-07-26</th>\n",
       "      <td>184</td>\n",
       "      <td>23.71</td>\n",
       "      <td>万科A</td>\n",
       "      <td>000002</td>\n",
       "    </tr>\n",
       "  </tbody>\n",
       "</table>\n",
       "</div>"
      ],
      "text/plain": [
       "            symbol_id  close_price name  ticker\n",
       "price_date                                     \n",
       "2018-08-01        184        22.35  万科A  000002\n",
       "2018-07-31        184        23.32  万科A  000002\n",
       "2018-07-30        184        23.18  万科A  000002\n",
       "2018-07-27        184        23.32  万科A  000002\n",
       "2018-07-26        184        23.71  万科A  000002"
      ]
     },
     "execution_count": 12,
     "metadata": {},
     "output_type": "execute_result"
    }
   ],
   "source": [
    "stock1.head()"
   ]
  },
  {
   "cell_type": "code",
   "execution_count": 13,
   "metadata": {},
   "outputs": [],
   "source": [
    "s1 = pd.DataFrame(index = stock1.index)\n",
    "s1['万科A'] = stock1['close_price']\n",
    "s1['顺丰控股'] = stock2['close_price']"
   ]
  },
  {
   "cell_type": "code",
   "execution_count": 14,
   "metadata": {},
   "outputs": [
    {
     "data": {
      "image/png": "[encoded data removed]",
      "text/plain": [
       "<Figure size 1080x504 with 1 Axes>"
      ]
     },
     "metadata": {},
     "output_type": "display_data"
    }
   ],
   "source": [
    "months = mdates.MonthLocator()  # every month\n",
    "fig, ax = plt.subplots(figsize = (15,7))\n",
    "ax.plot(s1.index, s1['万科A'], label='万科A')\n",
    "ax.plot(s1.index, s1['顺丰控股'], label='顺丰控股')\n",
    "ax.xaxis.set_major_locator(months)\n",
    "ax.xaxis.set_major_formatter(mdates.DateFormatter('%b %Y'))\n",
    "# ax.set_xlim(datetime.datetime(2012, 1, 1), datetime.datetime(2013, 1, 1))\n",
    "ax.grid(True)\n",
    "fig.autofmt_xdate()\n",
    "\n",
    "plt.xlabel('Month/Year')\n",
    "plt.ylabel('Price ($)')\n",
    "plt.title('%s and %s Daily Prices' % ('万科A', '顺丰控股'))\n",
    "plt.legend()\n",
    "plt.show()"
   ]
  },
  {
   "cell_type": "code",
   "execution_count": 15,
   "metadata": {},
   "outputs": [
    {
     "data": {
      "text/plain": [
       "1207"
      ]
     },
     "execution_count": 15,
     "metadata": {},
     "output_type": "execute_result"
    }
   ],
   "source": [
    "#剔除未开盘的数据\n",
    "s1 = s1[s1['顺丰控股'] != 0]\n",
    "s1 = s1[s1['万科A'] != 0]\n",
    "len(s1)"
   ]
  },
  {
   "cell_type": "code",
   "execution_count": 16,
   "metadata": {},
   "outputs": [
    {
     "name": "stdout",
     "output_type": "stream",
     "text": [
      "                            OLS Regression Results                            \n",
      "==============================================================================\n",
      "Dep. Variable:                      y   R-squared:                       0.720\n",
      "Model:                            OLS   Adj. R-squared:                  0.720\n",
      "Method:                 Least Squares   F-statistic:                     3103.\n",
      "Date:                Thu, 09 Aug 2018   Prob (F-statistic):               0.00\n",
      "Time:                        17:25:25   Log-Likelihood:                -4118.0\n",
      "No. Observations:                1207   AIC:                             8240.\n",
      "Df Residuals:                    1205   BIC:                             8250.\n",
      "Df Model:                           1                                         \n",
      "Covariance Type:            nonrobust                                         \n",
      "==============================================================================\n",
      "                 coef    std err          t      P>|t|      [0.025      0.975]\n",
      "------------------------------------------------------------------------------\n",
      "const          9.7868      0.494     19.802      0.000       8.817      10.756\n",
      "x1             1.4641      0.026     55.701      0.000       1.413       1.516\n",
      "==============================================================================\n",
      "Omnibus:                      172.948   Durbin-Watson:                   0.036\n",
      "Prob(Omnibus):                  0.000   Jarque-Bera (JB):              293.303\n",
      "Skew:                           0.924   Prob(JB):                     2.04e-64\n",
      "Kurtosis:                       4.554   Cond. No.                         44.1\n",
      "==============================================================================\n",
      "\n",
      "Warnings:\n",
      "[1] Standard Errors assume that the covariance matrix of the errors is correctly specified.\n"
     ]
    }
   ],
   "source": [
    "#最小二乘法\n",
    "X = s1['万科A'].values\n",
    "y = s1['顺丰控股'].values\n",
    "X = sm.add_constant(X)\n",
    "model = sm.OLS(y,X)\n",
    "results = model.fit()\n",
    "print(results.summary())"
   ]
  },
  {
   "cell_type": "code",
   "execution_count": 17,
   "metadata": {},
   "outputs": [
    {
     "data": {
      "text/plain": [
       "Text(0.5,0,'万科A')"
      ]
     },
     "execution_count": 17,
     "metadata": {},
     "output_type": "execute_result"
    },
    {
     "data": {
      "image/png": "[encoded data removed]",
      "text/plain": [
       "<Figure size 1080x504 with 1 Axes>"
      ]
     },
     "metadata": {},
     "output_type": "display_data"
    }
   ],
   "source": [
    "fig,ax=plt.subplots(figsize=(15,7))\n",
    "ax.plot(X,results.fittedvalues,label='regression line')\n",
    "ax.scatter(s1['万科A'].values,s1['顺丰控股'].values,label='data point',color='r')\n",
    "ax.set_ylabel('顺丰控股')\n",
    "ax.set_xlabel('万科A')"
   ]
  },
  {
   "cell_type": "code",
   "execution_count": 18,
   "metadata": {},
   "outputs": [],
   "source": [
    "diff =s1['顺丰控股']-1.4641*s1['万科A']"
   ]
  },
  {
   "cell_type": "code",
   "execution_count": 19,
   "metadata": {},
   "outputs": [
    {
     "data": {
      "text/plain": [
       "<matplotlib.axes._subplots.AxesSubplot at 0x1c124526d8>"
      ]
     },
     "execution_count": 19,
     "metadata": {},
     "output_type": "execute_result"
    },
    {
     "data": {
      "image/png": "[encoded data removed]",
      "text/plain": [
       "<Figure size 432x288 with 1 Axes>"
      ]
     },
     "metadata": {},
     "output_type": "display_data"
    }
   ],
   "source": [
    "diff.plot()"
   ]
  },
  {
   "cell_type": "code",
   "execution_count": 20,
   "metadata": {},
   "outputs": [
    {
     "data": {
      "text/plain": [
       "9.787459019884011"
      ]
     },
     "execution_count": 20,
     "metadata": {},
     "output_type": "execute_result"
    }
   ],
   "source": [
    "diff.mean()"
   ]
  },
  {
   "cell_type": "code",
   "execution_count": 21,
   "metadata": {},
   "outputs": [
    {
     "data": {
      "text/plain": [
       "(-3.9450653725320777,\n",
       " 0.0017271185214631612,\n",
       " 11,\n",
       " 1195,\n",
       " {'1%': -3.4358340188169882,\n",
       "  '10%': -2.5680593310691338,\n",
       "  '5%': -2.8639616494853217},\n",
       " 4142.308748622263)"
      ]
     },
     "execution_count": 21,
     "metadata": {},
     "output_type": "execute_result"
    }
   ],
   "source": [
    "ts.adfuller(diff)"
   ]
  },
  {
   "cell_type": "code",
   "execution_count": 22,
   "metadata": {},
   "outputs": [
    {
     "data": {
      "text/plain": [
       "price_date\n",
       "2018-08-01    0.027237\n",
       "2018-07-31   -0.088599\n",
       "2018-07-30   -0.044322\n",
       "2018-07-27    0.008138\n",
       "2018-07-26   -0.020610\n",
       "dtype: float64"
      ]
     },
     "execution_count": 22,
     "metadata": {},
     "output_type": "execute_result"
    }
   ],
   "source": [
    "#\n",
    "z_score = (diff-diff.mean())/diff.std(0)\n",
    "z_score.head()"
   ]
  },
  {
   "cell_type": "code",
   "execution_count": 23,
   "metadata": {},
   "outputs": [
    {
     "data": {
      "text/plain": [
       "<matplotlib.axes._subplots.AxesSubplot at 0x1c13b57400>"
      ]
     },
     "execution_count": 23,
     "metadata": {},
     "output_type": "execute_result"
    },
    {
     "data": {
      "image/png": "[encoded data removed]",
      "text/plain": [
       "<Figure size 432x288 with 1 Axes>"
      ]
     },
     "metadata": {},
     "output_type": "display_data"
    }
   ],
   "source": [
    "\n",
    "z_score.plot()"
   ]
  },
  {
   "cell_type": "code",
   "execution_count": null,
   "metadata": {},
   "outputs": [],
   "source": []
  }
 ],
 "metadata": {
  "kernelspec": {
   "display_name": "Python 3",
   "language": "python",
   "name": "python3"
  },
  "language_info": {
   "codemirror_mode": {
    "name": "ipython",
    "version": 3
   },
   "file_extension": ".py",
   "mimetype": "text/x-python",
   "name": "python",
   "nbconvert_exporter": "python",
   "pygments_lexer": "ipython3",
   "version": "3.5.5"
  }
 },
 "nbformat": 4,
 "nbformat_minor": 2
}
